{
 "cells": [
  {
   "cell_type": "code",
   "execution_count": 5,
   "id": "4c52bf87-0064-4142-bdf7-6c35aa8e2102",
   "metadata": {},
   "outputs": [],
   "source": [
    "from bids import BIDSLayout"
   ]
  },
  {
   "cell_type": "code",
   "execution_count": 6,
   "id": "3507e436-62af-4726-8d21-fdea331265e8",
   "metadata": {},
   "outputs": [],
   "source": [
    "layout = BIDSLayout('/home/jovyan/shared/data/ds000005')"
   ]
  },
  {
   "cell_type": "code",
   "execution_count": 7,
   "id": "8d3ecba2-5759-4f90-903a-1b82d7e55068",
   "metadata": {},
   "outputs": [
    {
     "name": "stdout",
     "output_type": "stream",
     "text": [
      "BIDS Layout: ...me/jovyan/shared/data/ds000005 | Subjects: 16 | Sessions: 0 | Runs: 48\n"
     ]
    }
   ],
   "source": [
    "print(layout)"
   ]
  },
  {
   "cell_type": "code",
   "execution_count": 8,
   "id": "c6c2d317-3393-4a99-a9e7-81fffcd8719c",
   "metadata": {},
   "outputs": [
    {
     "data": {
      "text/plain": [
       "['/home/jovyan/shared/data/ds000005/sub-01/anat/sub-01_T1w.nii.gz',\n",
       " '/home/jovyan/shared/data/ds000005/sub-02/anat/sub-02_T1w.nii.gz']"
      ]
     },
     "execution_count": 8,
     "metadata": {},
     "output_type": "execute_result"
    }
   ],
   "source": [
    "layout.get(subject=['01', '02'],  suffix=\"T1w\", return_type='filename')"
   ]
  },
  {
   "cell_type": "code",
   "execution_count": 9,
   "id": "1db2f3e6-3f56-48e9-8245-cdca75f557ce",
   "metadata": {},
   "outputs": [
    {
     "data": {
      "text/plain": [
       "['/home/jovyan/shared/data/ds000005/sub-03/func/sub-03_task-mixedgamblestask_run-01_bold.nii.gz',\n",
       " '/home/jovyan/shared/data/ds000005/sub-03/func/sub-03_task-mixedgamblestask_run-02_bold.nii.gz',\n",
       " '/home/jovyan/shared/data/ds000005/sub-03/func/sub-03_task-mixedgamblestask_run-03_bold.nii.gz']"
      ]
     },
     "execution_count": 9,
     "metadata": {},
     "output_type": "execute_result"
    }
   ],
   "source": [
    "layout.get(subject='03', suffix=\"bold\", return_type='filename')"
   ]
  },
  {
   "cell_type": "code",
   "execution_count": 10,
   "id": "8ed5c541-95dc-4714-87a2-9c222e0e765a",
   "metadata": {},
   "outputs": [],
   "source": [
    "bids_files = layout.get(subject=\"03\", suffix=\"bold\")\n",
    "bids_image = bids_files[0]"
   ]
  },
  {
   "cell_type": "code",
   "execution_count": 12,
   "id": "94c58142-a444-4dc2-92e2-87a53486dee1",
   "metadata": {},
   "outputs": [
    {
     "data": {
      "text/plain": [
       "{'datatype': 'func',\n",
       " 'extension': '.nii.gz',\n",
       " 'run': 01,\n",
       " 'subject': '03',\n",
       " 'suffix': 'bold',\n",
       " 'task': 'mixedgamblestask'}"
      ]
     },
     "execution_count": 12,
     "metadata": {},
     "output_type": "execute_result"
    }
   ],
   "source": [
    "bids_image.get_entities()"
   ]
  },
  {
   "cell_type": "code",
   "execution_count": 14,
   "id": "161d7c14-c620-4c1a-a8ce-c5377f5ae7bb",
   "metadata": {},
   "outputs": [],
   "source": [
    "events = layout.get(subject='03', extension=\".tsv\", task=\"mixedgamblestask\", run=\"03\")\n",
    "tsv_file = events[0]"
   ]
  },
  {
   "cell_type": "code",
   "execution_count": 16,
   "id": "4dee4232-ef56-4b46-abfc-6dd54623c7e1",
   "metadata": {},
   "outputs": [],
   "source": [
    "mixedgamblestask_events_df = tsv_file.get_df()"
   ]
  },
  {
   "cell_type": "code",
   "execution_count": 17,
   "id": "3d666431-8637-4a02-af64-31d25519158b",
   "metadata": {},
   "outputs": [
    {
     "data": {
      "text/html": [
       "<div>\n",
       "<style scoped>\n",
       "    .dataframe tbody tr th:only-of-type {\n",
       "        vertical-align: middle;\n",
       "    }\n",
       "\n",
       "    .dataframe tbody tr th {\n",
       "        vertical-align: top;\n",
       "    }\n",
       "\n",
       "    .dataframe thead th {\n",
       "        text-align: right;\n",
       "    }\n",
       "</style>\n",
       "<table border=\"1\" class=\"dataframe\">\n",
       "  <thead>\n",
       "    <tr style=\"text-align: right;\">\n",
       "      <th></th>\n",
       "      <th>onset</th>\n",
       "      <th>duration</th>\n",
       "      <th>parametric loss</th>\n",
       "      <th>distance from indifference</th>\n",
       "      <th>parametric gain</th>\n",
       "      <th>gain</th>\n",
       "      <th>loss</th>\n",
       "      <th>PTval</th>\n",
       "      <th>respnum</th>\n",
       "      <th>respcat</th>\n",
       "      <th>response_time</th>\n",
       "    </tr>\n",
       "  </thead>\n",
       "  <tbody>\n",
       "    <tr>\n",
       "      <th>0</th>\n",
       "      <td>0.0</td>\n",
       "      <td>3</td>\n",
       "      <td>0.2182</td>\n",
       "      <td>-0.0780</td>\n",
       "      <td>0.0835</td>\n",
       "      <td>28</td>\n",
       "      <td>17</td>\n",
       "      <td>-86.81</td>\n",
       "      <td>4</td>\n",
       "      <td>0</td>\n",
       "      <td>1.204</td>\n",
       "    </tr>\n",
       "    <tr>\n",
       "      <th>1</th>\n",
       "      <td>4.0</td>\n",
       "      <td>3</td>\n",
       "      <td>-0.2818</td>\n",
       "      <td>-0.4113</td>\n",
       "      <td>-0.2665</td>\n",
       "      <td>14</td>\n",
       "      <td>7</td>\n",
       "      <td>-33.27</td>\n",
       "      <td>3</td>\n",
       "      <td>0</td>\n",
       "      <td>1.071</td>\n",
       "    </tr>\n",
       "    <tr>\n",
       "      <th>2</th>\n",
       "      <td>8.0</td>\n",
       "      <td>3</td>\n",
       "      <td>0.2682</td>\n",
       "      <td>-0.0780</td>\n",
       "      <td>0.0835</td>\n",
       "      <td>28</td>\n",
       "      <td>18</td>\n",
       "      <td>-93.56</td>\n",
       "      <td>3</td>\n",
       "      <td>0</td>\n",
       "      <td>1.627</td>\n",
       "    </tr>\n",
       "    <tr>\n",
       "      <th>3</th>\n",
       "      <td>14.0</td>\n",
       "      <td>3</td>\n",
       "      <td>-0.0818</td>\n",
       "      <td>-0.0780</td>\n",
       "      <td>-0.2165</td>\n",
       "      <td>16</td>\n",
       "      <td>11</td>\n",
       "      <td>-58.29</td>\n",
       "      <td>4</td>\n",
       "      <td>0</td>\n",
       "      <td>0.780</td>\n",
       "    </tr>\n",
       "    <tr>\n",
       "      <th>4</th>\n",
       "      <td>18.0</td>\n",
       "      <td>3</td>\n",
       "      <td>0.3682</td>\n",
       "      <td>-0.4113</td>\n",
       "      <td>0.3835</td>\n",
       "      <td>40</td>\n",
       "      <td>20</td>\n",
       "      <td>-95.07</td>\n",
       "      <td>4</td>\n",
       "      <td>0</td>\n",
       "      <td>0.942</td>\n",
       "    </tr>\n",
       "    <tr>\n",
       "      <th>...</th>\n",
       "      <td>...</td>\n",
       "      <td>...</td>\n",
       "      <td>...</td>\n",
       "      <td>...</td>\n",
       "      <td>...</td>\n",
       "      <td>...</td>\n",
       "      <td>...</td>\n",
       "      <td>...</td>\n",
       "      <td>...</td>\n",
       "      <td>...</td>\n",
       "      <td>...</td>\n",
       "    </tr>\n",
       "    <tr>\n",
       "      <th>80</th>\n",
       "      <td>450.0</td>\n",
       "      <td>3</td>\n",
       "      <td>0.0682</td>\n",
       "      <td>-0.4113</td>\n",
       "      <td>0.0335</td>\n",
       "      <td>26</td>\n",
       "      <td>14</td>\n",
       "      <td>-68.55</td>\n",
       "      <td>3</td>\n",
       "      <td>0</td>\n",
       "      <td>0.786</td>\n",
       "    </tr>\n",
       "    <tr>\n",
       "      <th>81</th>\n",
       "      <td>454.0</td>\n",
       "      <td>3</td>\n",
       "      <td>-0.2318</td>\n",
       "      <td>0.2554</td>\n",
       "      <td>0.1835</td>\n",
       "      <td>32</td>\n",
       "      <td>8</td>\n",
       "      <td>-22.03</td>\n",
       "      <td>2</td>\n",
       "      <td>1</td>\n",
       "      <td>1.295</td>\n",
       "    </tr>\n",
       "    <tr>\n",
       "      <th>82</th>\n",
       "      <td>466.0</td>\n",
       "      <td>3</td>\n",
       "      <td>0.2182</td>\n",
       "      <td>-0.4113</td>\n",
       "      <td>0.3835</td>\n",
       "      <td>40</td>\n",
       "      <td>17</td>\n",
       "      <td>-74.81</td>\n",
       "      <td>3</td>\n",
       "      <td>0</td>\n",
       "      <td>2.090</td>\n",
       "    </tr>\n",
       "    <tr>\n",
       "      <th>83</th>\n",
       "      <td>472.0</td>\n",
       "      <td>3</td>\n",
       "      <td>0.2182</td>\n",
       "      <td>0.2554</td>\n",
       "      <td>-0.1165</td>\n",
       "      <td>20</td>\n",
       "      <td>17</td>\n",
       "      <td>-94.81</td>\n",
       "      <td>3</td>\n",
       "      <td>0</td>\n",
       "      <td>0.787</td>\n",
       "    </tr>\n",
       "    <tr>\n",
       "      <th>84</th>\n",
       "      <td>476.0</td>\n",
       "      <td>3</td>\n",
       "      <td>0.3182</td>\n",
       "      <td>0.2554</td>\n",
       "      <td>-0.0165</td>\n",
       "      <td>24</td>\n",
       "      <td>19</td>\n",
       "      <td>-104.31</td>\n",
       "      <td>3</td>\n",
       "      <td>0</td>\n",
       "      <td>1.078</td>\n",
       "    </tr>\n",
       "  </tbody>\n",
       "</table>\n",
       "<p>85 rows × 11 columns</p>\n",
       "</div>"
      ],
      "text/plain": [
       "    onset  duration  parametric loss  distance from indifference  \\\n",
       "0     0.0         3           0.2182                     -0.0780   \n",
       "1     4.0         3          -0.2818                     -0.4113   \n",
       "2     8.0         3           0.2682                     -0.0780   \n",
       "3    14.0         3          -0.0818                     -0.0780   \n",
       "4    18.0         3           0.3682                     -0.4113   \n",
       "..    ...       ...              ...                         ...   \n",
       "80  450.0         3           0.0682                     -0.4113   \n",
       "81  454.0         3          -0.2318                      0.2554   \n",
       "82  466.0         3           0.2182                     -0.4113   \n",
       "83  472.0         3           0.2182                      0.2554   \n",
       "84  476.0         3           0.3182                      0.2554   \n",
       "\n",
       "    parametric gain  gain  loss   PTval  respnum  respcat  response_time  \n",
       "0            0.0835    28    17  -86.81        4        0          1.204  \n",
       "1           -0.2665    14     7  -33.27        3        0          1.071  \n",
       "2            0.0835    28    18  -93.56        3        0          1.627  \n",
       "3           -0.2165    16    11  -58.29        4        0          0.780  \n",
       "4            0.3835    40    20  -95.07        4        0          0.942  \n",
       "..              ...   ...   ...     ...      ...      ...            ...  \n",
       "80           0.0335    26    14  -68.55        3        0          0.786  \n",
       "81           0.1835    32     8  -22.03        2        1          1.295  \n",
       "82           0.3835    40    17  -74.81        3        0          2.090  \n",
       "83          -0.1165    20    17  -94.81        3        0          0.787  \n",
       "84          -0.0165    24    19 -104.31        3        0          1.078  \n",
       "\n",
       "[85 rows x 11 columns]"
      ]
     },
     "execution_count": 17,
     "metadata": {},
     "output_type": "execute_result"
    }
   ],
   "source": [
    "mixedgamblestask_events_df"
   ]
  },
  {
   "cell_type": "markdown",
   "id": "21d6fade-0ae7-434d-ae35-4f79cda031fb",
   "metadata": {},
   "source": [
    "# Exercise: \n",
    "\n",
    "BIDS has a set of example datasets available in a GitHub repository at https://github.com/bids-standard/bids-examples. Clone the repository and use pyBIDS to explore the dataset called “ds011”. Using only pyBIDS code, can you figure out how many subjects participated in this study? What are the values of TR that were used in fMRI acquisitions in this dataset?"
   ]
  },
  {
   "cell_type": "code",
   "execution_count": null,
   "id": "312b2bd0-6daf-4922-b172-0051b9d1c4da",
   "metadata": {},
   "outputs": [],
   "source": []
  }
 ],
 "metadata": {
  "kernelspec": {
   "display_name": "Python 3 (ipykernel)",
   "language": "python",
   "name": "python3"
  },
  "language_info": {
   "codemirror_mode": {
    "name": "ipython",
    "version": 3
   },
   "file_extension": ".py",
   "mimetype": "text/x-python",
   "name": "python",
   "nbconvert_exporter": "python",
   "pygments_lexer": "ipython3",
   "version": "3.11.11"
  }
 },
 "nbformat": 4,
 "nbformat_minor": 5
}
