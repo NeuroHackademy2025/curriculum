{
 "cells": [
  {
   "cell_type": "markdown",
   "id": "e5b5ed1a-3122-44e8-bdf7-4222ec79a79c",
   "metadata": {},
   "source": [
    "# Scientific Programming in Python: Numerical Methods and Arrays with NumPy"
   ]
  },
  {
   "cell_type": "markdown",
   "id": "2a53a1a3-fa02-47c4-9c63-4bc1c8bea468",
   "metadata": {},
   "source": [
    "This tutorial focuses on introducing the libraries [`numpy`](https://numpy.org/doc/stable/) and [`pandas`](https://pandas.pydata.org/docs/). It additionally uses [`matplotlib`](https://matplotlib.org/) and [`seaborn`](https://seaborn.pydata.org/index.html) for visualization. The goal is to get the learner familiar with the basic operations of each library and their general capabilities as well as some common paradigms in how they are used.\n",
    "\n",
    "This notebook focuses on the `numpy` library, which implements many numerical and array utilities and forms the backbone of many other scientific libraries."
   ]
  },
  {
   "cell_type": "markdown",
   "id": "f9ab2cf4-4a10-4ab7-97fa-2fba694b33a1",
   "metadata": {},
   "source": [
    "For starters, we will need to import each of these libraries. Canonically, these libraries have common import aliases."
   ]
  },
  {
   "cell_type": "code",
   "execution_count": null,
   "id": "d7df9788-a4db-486b-a47d-858298bf9a04",
   "metadata": {},
   "outputs": [],
   "source": [
    "import numpy as np\n",
    "import pandas as pd\n",
    "import matplotlib.pyplot as plt\n",
    "import matplotlib as mpl"
   ]
  },
  {
   "cell_type": "markdown",
   "id": "6cdedc7a-821f-4269-a138-505ca0550131",
   "metadata": {},
   "source": [
    "## NumPy Basics"
   ]
  },
  {
   "cell_type": "markdown",
   "id": "114f6856-4cf5-4b93-bf7f-dfe5e7538c49",
   "metadata": {},
   "source": [
    "The `numpy` library contains tools for representing n-dimensional arrays (like vectors and matrices) plus a vast collection of numerical methods. It has been written in a lower-level language (C) that interfaces with Python and so is very fast."
   ]
  },
  {
   "cell_type": "markdown",
   "id": "014ba445-95d7-4661-b53b-b5ecf35b7e93",
   "metadata": {},
   "source": [
    "### NumPy Arrays"
   ]
  },
  {
   "cell_type": "markdown",
   "id": "e714ba43-a208-428a-90cf-946861f08599",
   "metadata": {},
   "source": [
    "NumPy arrays are numeric collections like vectors and matrices that efficiently store objects, usually numbers. (NumPy arrays can store strings and other objects, but we're going to focus on numbers in this tutorial.) To make a NumPy array, the simplest way is using the `numpy.array` function."
   ]
  },
  {
   "cell_type": "code",
   "execution_count": null,
   "id": "3e8a1a6e-5b63-47b6-8ef4-3c63048ae4cc",
   "metadata": {},
   "outputs": [],
   "source": [
    "u = np.array([1,2,3,4])\n",
    "u"
   ]
  },
  {
   "cell_type": "markdown",
   "id": "f826126c-eb79-4adb-bfcc-7211ecdd9a58",
   "metadata": {},
   "source": [
    "The above array is a vector of length 4, and is analogous to the 4-element Python list from which it was initialized. In many ways 1D arrays are like lists:"
   ]
  },
  {
   "cell_type": "code",
   "execution_count": null,
   "id": "361c089a-ea97-401e-a362-d2024d35295d",
   "metadata": {},
   "outputs": [],
   "source": [
    "print('u[0] is', u[0])\n",
    "print('u[-1] is', u[-1])\n",
    "print('len(u) is', len(u))"
   ]
  },
  {
   "cell_type": "markdown",
   "id": "70002ec6-15ca-4881-9246-4a9509ee02e3",
   "metadata": {},
   "source": [
    "However, arrays support much fancier methods of indexing their elements. For example, a sub-array containing only some indices can be created from an array, but this is not possible for a list."
   ]
  },
  {
   "cell_type": "code",
   "execution_count": null,
   "id": "f3a55248-6ccb-47c7-9ff2-0704cb45341e",
   "metadata": {},
   "outputs": [],
   "source": [
    "# Extract the first, third, and fourth elements:\n",
    "u[[0,2,3]]"
   ]
  },
  {
   "cell_type": "markdown",
   "id": "8c5fac96-1bb7-4eab-9321-bcc575b5e121",
   "metadata": {},
   "source": [
    "Matrices can be constructed in a similar way: by providing a list of rows."
   ]
  },
  {
   "cell_type": "code",
   "execution_count": null,
   "id": "20f039be-367a-497d-912e-f1b36778f06b",
   "metadata": {},
   "outputs": [],
   "source": [
    "m = np.array([[1.0, 0.75], [0.0, 0.5], [-0.25, 1.0]])\n",
    "print(m)"
   ]
  },
  {
   "cell_type": "markdown",
   "id": "df170014-ec1f-435d-959a-41099c8b5e1a",
   "metadata": {},
   "source": [
    "Notice that when NumPy is given a list of lists, it assumes that this is a list of rows, not a list of columns. This is partly because NumPy is a \"row-major\" language: matrices are stored in memory as lists of rows rather than as lists of columns. If you are used to Matlab or Julia, both of which are column-major, then this may seem strange. It has relatively little consequence in most programs, though, because we still index a matrix `m` using `m[row, col]` in any language."
   ]
  },
  {
   "cell_type": "code",
   "execution_count": null,
   "id": "bedb9a08-ec22-46a1-9d3c-767684d82324",
   "metadata": {},
   "outputs": [],
   "source": [
    "print('m[0,0] is', m[0,0])\n",
    "print('m[:,1] is', m[:,1])\n",
    "print('m[2,:] is', m[2,:])"
   ]
  },
  {
   "cell_type": "markdown",
   "id": "bf38ddbe-9770-4a68-8c1e-38bed1cc6aaf",
   "metadata": {},
   "source": [
    "Lists of lists of lists can also be given to `numpy.array`, as can lists of lists of lists of lists. Such arguments construct 3D and 4D arrays, respectively. Realistically there is no upper limit to the number of dimensions an array can have. You can even have 0-dimensional arrays, which are just individual numbers."
   ]
  },
  {
   "cell_type": "code",
   "execution_count": null,
   "id": "07e081a0-bb81-4a86-b593-3edc4ae575d0",
   "metadata": {},
   "outputs": [],
   "source": [
    "x = np.array(2.7)\n",
    "x"
   ]
  },
  {
   "cell_type": "markdown",
   "id": "088eb858-a7fd-41e5-b9d3-a860dc9997c6",
   "metadata": {},
   "source": [
    "### The `shape` and `dtype` fields"
   ]
  },
  {
   "cell_type": "markdown",
   "id": "5d6724b1-de06-4cb0-a610-453a0ec050dc",
   "metadata": {},
   "source": [
    "NumPy arrays have a particular shape and data-type, and these values are stored in the `shape` and `dtype` fields of an array.\n",
    "\n",
    "The `shape` is a tuple containing the size of each of the array's dimensions, which NumPy typically refers to as axes. (For example, a matrix has two axes: axis 0, the rows, and axis 1, the columns.)"
   ]
  },
  {
   "cell_type": "code",
   "execution_count": null,
   "id": "533e7ab7-7be8-4123-9c74-8d35f9a31dbd",
   "metadata": {},
   "outputs": [],
   "source": [
    "m.shape"
   ]
  },
  {
   "cell_type": "code",
   "execution_count": null,
   "id": "02a7e0f9-e264-4e0f-9d34-874f6ee7d508",
   "metadata": {},
   "outputs": [],
   "source": [
    "u.shape"
   ]
  },
  {
   "cell_type": "code",
   "execution_count": null,
   "id": "14a8cb0b-e4c1-4b32-b2ce-f2f2326ca85a",
   "metadata": {},
   "outputs": [],
   "source": [
    "x.shape"
   ]
  },
  {
   "cell_type": "markdown",
   "id": "51ea4109-743a-472c-a205-87a8878ea718",
   "metadata": {},
   "source": [
    "We can also request the shape of a nested set of lists or iterables using the `numpy.shape` function."
   ]
  },
  {
   "cell_type": "code",
   "execution_count": null,
   "id": "04462a89-084d-4d02-9355-b19daf921e45",
   "metadata": {},
   "outputs": [],
   "source": [
    "list_3d = [\n",
    "    [[0.0, 0.1, 0.2, 0.3],\n",
    "     [2.2, 3.3, 4.4, 5.5],\n",
    "     [-0.1, -0.2, -0.3, -0.4]],\n",
    "    [[1.0, 2.1, 3.2, 4.3],\n",
    "     [1.2, 0.3, 0.4, 0.5],\n",
    "     [0.1, -0.2, 0.3, -0.4]]]\n",
    "\n",
    "array_3d = np.array(list_3d)\n",
    "\n",
    "print('list_3d shape:', np.shape(list_3d))\n",
    "print('array_3d shape:', array_3d.shape)"
   ]
  },
  {
   "cell_type": "markdown",
   "id": "8c91f663-400c-452b-8eec-ecebf34c08c0",
   "metadata": {},
   "source": [
    "The data-type of an array is the kind of object that is stored in each cell of the array. NumPy arrays can store many kinds of data, including integers, floating-point numbers, complex numbers, strings, and generic Python objects. Usually we use them to store numbers (and NumPy is especially optimized for this use-case).\n",
    "\n",
    "Python only really has a few types of numbers: `int`, `float`, and `complex`. NumPy however, has many types of these numbers that differ in terms of how much memory they take up and thus how large and precise the values they can store are."
   ]
  },
  {
   "cell_type": "code",
   "execution_count": null,
   "id": "3d9b7f24-6b2d-4b7d-b128-9aa7a296753f",
   "metadata": {},
   "outputs": [],
   "source": [
    "array_3d.dtype"
   ]
  },
  {
   "cell_type": "code",
   "execution_count": null,
   "id": "7b3896c9-86c7-4f42-b947-84e008754796",
   "metadata": {},
   "outputs": [],
   "source": [
    "u.dtype"
   ]
  },
  {
   "cell_type": "markdown",
   "id": "0c35cd83-285e-42f0-aae1-f6063b30298a",
   "metadata": {},
   "source": [
    "Both of the above examples are 64-bit types because on a 64-bit system, the default size of a floating-point or integer number will 64 bits. Using smaller types, such as 32-bit integers can save memory but does not usually have a major impact in most cases. To use a particular `dtype` we can use the `numpy.array` function with the `dtype` option."
   ]
  },
  {
   "cell_type": "code",
   "execution_count": null,
   "id": "f4b7b0b3-072d-4649-baa5-96e636298ac4",
   "metadata": {},
   "outputs": [],
   "source": [
    "# Use the default system-size float\n",
    "np.array(list_3d, dtype=float).dtype"
   ]
  },
  {
   "cell_type": "code",
   "execution_count": null,
   "id": "60588fa6-a814-4278-ac10-2f674acab1f1",
   "metadata": {},
   "outputs": [],
   "source": [
    "# Use a 32-bit float\n",
    "np.array(list_3d, dtype=np.float32).dtype"
   ]
  },
  {
   "cell_type": "code",
   "execution_count": null,
   "id": "94bfe025-35d9-4637-8853-7b61732de430",
   "metadata": {},
   "outputs": [],
   "source": [
    "# Convert the values into integers\n",
    "np.array(list_3d, dtype=int).dtype"
   ]
  },
  {
   "cell_type": "code",
   "execution_count": null,
   "id": "6b6754b6-3e1d-40ab-ad6e-672d384c967e",
   "metadata": {},
   "outputs": [],
   "source": [
    "# Or into complex numbers\n",
    "np.array(list_3d, dtype=complex).dtype"
   ]
  },
  {
   "cell_type": "markdown",
   "id": "147a05aa-300c-4338-803e-062640352d18",
   "metadata": {},
   "source": [
    "We can also use the `astype` method to cast an array into another dtype."
   ]
  },
  {
   "cell_type": "code",
   "execution_count": null,
   "id": "43cd8291-a4b9-4f71-8b6d-f628339a483e",
   "metadata": {},
   "outputs": [],
   "source": [
    "print(u)\n",
    "print(u.astype(complex))"
   ]
  },
  {
   "cell_type": "markdown",
   "id": "994f03eb-1633-43a4-8144-a076b17d100a",
   "metadata": {},
   "source": [
    "### `array` versus `asarray`"
   ]
  },
  {
   "cell_type": "markdown",
   "id": "c8f86417-07e0-41c2-aea1-954842c7ffa1",
   "metadata": {},
   "source": [
    "The `numpy.array` function always returns a new array that is a copy of its input. This is usually the desired behavior, and it can be used to make a copy of an array (for example, to avoid modifying an array passed to a function).\n",
    "\n",
    "The `numpy.asarray` function always returns an array representing the input, but if the input is already an array, it doesn't create a new array.\n",
    "\n",
    "The `array` and `asarray` functions can be given `dtype` arguments to force the returned array to match a particular datatype."
   ]
  },
  {
   "cell_type": "code",
   "execution_count": null,
   "id": "dd27ecf6-68f7-41f8-aa19-9cce56813fca",
   "metadata": {},
   "outputs": [],
   "source": [
    "u is np.asarray(u)"
   ]
  },
  {
   "cell_type": "code",
   "execution_count": null,
   "id": "015883a5-d56e-4e0d-9491-d2f1deb78045",
   "metadata": {},
   "outputs": [],
   "source": [
    "u is np.array(u)"
   ]
  },
  {
   "cell_type": "code",
   "execution_count": null,
   "id": "d0a04107-4875-4677-a563-238b48b16a1b",
   "metadata": {},
   "outputs": [],
   "source": [
    "u is np.asarray(u, dtype=np.int32)"
   ]
  },
  {
   "cell_type": "markdown",
   "id": "1bbce30f-67df-4221-868a-38eb2b8b29eb",
   "metadata": {},
   "source": [
    "### Creating Arrays"
   ]
  },
  {
   "cell_type": "markdown",
   "id": "068663e5-f549-449b-937c-f1c4ac17266f",
   "metadata": {},
   "source": [
    "There are many utility functions that create arrays; here are several of the most useful ones."
   ]
  },
  {
   "cell_type": "code",
   "execution_count": null,
   "id": "81de5dbd-40a8-48d6-9a95-32addef68cd0",
   "metadata": {},
   "outputs": [],
   "source": [
    "# Create a bunch of ones or zeros:\n",
    "print(np.zeros((2,3), dtype=int))\n",
    "print('')\n",
    "print(np.ones((3,2), dtype=float))"
   ]
  },
  {
   "cell_type": "code",
   "execution_count": null,
   "id": "0e22e978-6083-4ef7-8940-2066bc952f3f",
   "metadata": {},
   "outputs": [],
   "source": [
    "# Create a bunch of a certain value:\n",
    "print(np.full((2,3), 5.1))"
   ]
  },
  {
   "cell_type": "code",
   "execution_count": null,
   "id": "30e6c1ec-d561-459f-8b6e-0c352277a9fb",
   "metadata": {},
   "outputs": [],
   "source": [
    "# Draw random numbers from a normal distribution:\n",
    "print(np.random.randn(2,3))"
   ]
  },
  {
   "cell_type": "code",
   "execution_count": null,
   "id": "2ace3f5a-c683-4962-ac34-140f83d4d79d",
   "metadata": {},
   "outputs": [],
   "source": [
    "# Create an identity matrix:\n",
    "print(np.eye(3))"
   ]
  },
  {
   "cell_type": "code",
   "execution_count": null,
   "id": "95ad6d0f-fb8a-4415-acf9-fbb6b6a7a51c",
   "metadata": {},
   "outputs": [],
   "source": [
    "# Create a range of numbers (like range):\n",
    "print(np.arange(1,11))"
   ]
  },
  {
   "cell_type": "code",
   "execution_count": null,
   "id": "6edc3922-c0f3-483b-a238-52a2274c009c",
   "metadata": {},
   "outputs": [],
   "source": [
    "# Create linearly spaced numbers between a min and max:\n",
    "print(np.linspace(0, 1, 6))"
   ]
  },
  {
   "cell_type": "markdown",
   "id": "4b3c4285-8179-4f2f-8336-57d5c7151a12",
   "metadata": {},
   "source": [
    "## Mathematical Operations"
   ]
  },
  {
   "cell_type": "markdown",
   "id": "e85b8b75-8a21-4bc9-b4f2-f124a4ecee44",
   "metadata": {},
   "source": [
    "NumPy arrays behave fairly naturally with respect to most basic math operations. Let's look at some examples."
   ]
  },
  {
   "cell_type": "code",
   "execution_count": null,
   "id": "51e9940d-d41d-47e3-863e-7c047d85c26e",
   "metadata": {},
   "outputs": [],
   "source": [
    "print(\"Original Matrix m:\")\n",
    "print(m)\n",
    "\n",
    "print('')\n",
    "print(\"m + 1:\")\n",
    "print(m + 1)\n",
    "\n",
    "print('')\n",
    "print(\"m * 10:\")\n",
    "print(m*10)\n",
    "\n",
    "# Operations like power operate over each cell.\n",
    "print('')\n",
    "print(\"m**2:\")\n",
    "print(m**2)"
   ]
  },
  {
   "cell_type": "markdown",
   "id": "c7967680-e6d2-4f61-955c-c416249acfc1",
   "metadata": {},
   "source": [
    "NumPy handles arithmetic operations not just between arrays and single numbers but between pairs of arrays as well. To do this, it uses a strategy called broadcasting. You can read more about broadcasting on [its NumPy documentation page](https://numpy.org/doc/stable/user/basics.broadcasting.html), but here's the basic idea. Supposing you perform some operation like `a + b`, then:\n",
    "\n",
    "1. If the shapes of `a` and `b` are equal, then `a + b` is calculated element-wise over each pair of matched cells.\n",
    "2. If `a` has more axes than `b` (i.e., `len(a.shape) > len(b.shape)`), then it attempts to run `a[i] + b` for every slice along the first axis. So if you add a vector to a matrix, NumPy will add that vector to each row of the matrix. (This rule works the same way if `b` has more axes than `a` but in reverse.)\n",
    "3. If `a` and `b` have the same number of axes and their shapes are not equal, BUT the only differences in their shapes occur where one of the arrays has an axis of size equal to 1, then the array with the axes of size 1 are essentially expanded along to match the other array's axis. This is best explaine via examples."
   ]
  },
  {
   "cell_type": "code",
   "execution_count": null,
   "id": "89695b2d-7c15-44d0-894b-c1c026f2d0d4",
   "metadata": {},
   "outputs": [],
   "source": [
    "r = np.zeros((2,3))\n",
    "\n",
    "# Adding a 3-d vector adds it to all rows:\n",
    "r + [0,1,2]"
   ]
  },
  {
   "cell_type": "code",
   "execution_count": null,
   "id": "dc2222f8-1033-4c25-b785-26ccbe4e1c85",
   "metadata": {},
   "outputs": [],
   "source": [
    "# Adding a 2-d vector fails because the final dimension of r (3) doesn't match\n",
    "# the size of the vector being added.\n",
    "r + [0,1]"
   ]
  },
  {
   "cell_type": "code",
   "execution_count": null,
   "id": "737228a9-ff44-4b82-8d10-d4fce5f8ed0d",
   "metadata": {},
   "outputs": [],
   "source": [
    "# However, if we add a column vector, the second axis has size 1, so it is\n",
    "# expanded to match the matrix:\n",
    "r + [[0],[1]]"
   ]
  },
  {
   "cell_type": "markdown",
   "id": "a5d2912b-12e3-4666-b651-080b9f28eb3e",
   "metadata": {},
   "source": [
    "Most mathematical functions operate element-wise over entire arrays. All the\n",
    "critical functions in the Python `math` library are duplicated in `numpy` but\n",
    "have been reconfigured to work over arrays."
   ]
  },
  {
   "cell_type": "code",
   "execution_count": null,
   "id": "b167a709-5f49-4edc-b48a-e2191c7575d5",
   "metadata": {},
   "outputs": [],
   "source": [
    "u"
   ]
  },
  {
   "cell_type": "code",
   "execution_count": null,
   "id": "192cbddd-21e1-4540-90b4-966c61f15d4a",
   "metadata": {},
   "outputs": [],
   "source": [
    "# Exponential function:\n",
    "np.exp(u)"
   ]
  },
  {
   "cell_type": "code",
   "execution_count": null,
   "id": "bc601134-faf9-46f5-86cd-1353d70fb595",
   "metadata": {},
   "outputs": [],
   "source": [
    "np.log(u)"
   ]
  },
  {
   "cell_type": "code",
   "execution_count": null,
   "id": "38e5b6d2-b978-4040-ae19-bbbb6ad69d64",
   "metadata": {},
   "outputs": [],
   "source": [
    "np.sin(u)"
   ]
  },
  {
   "cell_type": "code",
   "execution_count": null,
   "id": "d0d83274-ea4a-4405-a526-b73d8abef0a3",
   "metadata": {},
   "outputs": [],
   "source": [
    "np.arctan2(u, 0)"
   ]
  },
  {
   "cell_type": "markdown",
   "id": "effe4dd2-7a1d-4ee5-83a8-2843de1d5d35",
   "metadata": {},
   "source": [
    "NumPy includes many functions that can operate over one or more axes of an\n",
    "array as well, such as `sum` and `min`."
   ]
  },
  {
   "cell_type": "code",
   "execution_count": null,
   "id": "1d68197b-48d2-4fc8-98b6-c4e64c38b253",
   "metadata": {},
   "outputs": [],
   "source": [
    "# Summing over a vector just sums the elements:\n",
    "np.sum(u)"
   ]
  },
  {
   "cell_type": "code",
   "execution_count": null,
   "id": "c57a3005-fd76-4968-b0bc-8f7f418b4804",
   "metadata": {},
   "outputs": [],
   "source": [
    "# Same with a matrix or any array; all elements are summed:\n",
    "np.sum(m)"
   ]
  },
  {
   "cell_type": "code",
   "execution_count": null,
   "id": "85eeabd6-399b-4a36-bfba-6f5836de2c36",
   "metadata": {},
   "outputs": [],
   "source": [
    "# However, we can also request that it sum across an axis:\n",
    "np.sum(m, axis=0)"
   ]
  },
  {
   "cell_type": "code",
   "execution_count": null,
   "id": "ae0728c7-dee3-404d-bb7e-146295416eb5",
   "metadata": {},
   "outputs": [],
   "source": [
    "np.sum(m, axis=1)"
   ]
  },
  {
   "cell_type": "code",
   "execution_count": null,
   "id": "0a045356-636a-44bd-ae45-c1bcd227986d",
   "metadata": {},
   "outputs": [],
   "source": [
    "# NumPy has many functions that operate in a similar manner to sum:\n",
    "\n",
    "print('sums:', np.sum(m, axis=0))\n",
    "print('means:', np.mean(m, axis=0))\n",
    "print('standard deviations:', np.std(m, axis=0))\n",
    "print('medians:', np.median(m, axis=0))\n",
    "print('25th percentiles:', np.percentile(m, 25, axis=0))\n",
    "print('all:', np.all(m > 0, axis=0))\n",
    "print('any:', np.any(m > 0, axis=0))"
   ]
  },
  {
   "cell_type": "markdown",
   "id": "d0b64cae-edf1-4d5a-adc4-40a0d05020ce",
   "metadata": {},
   "source": [
    "## Indexing and Vectorized Programming"
   ]
  },
  {
   "cell_type": "markdown",
   "id": "73076bf2-24af-4bb7-a0b8-21e770c5f99a",
   "metadata": {},
   "source": [
    "NumPy supports a few ways to index its elements. We've already seen a few examples."
   ]
  },
  {
   "cell_type": "code",
   "execution_count": null,
   "id": "5411c951-4c39-4297-9dd6-f170414ba096",
   "metadata": {},
   "outputs": [],
   "source": [
    "# Extract a single element from a matrix:\n",
    "m[1,0] # second row, first column"
   ]
  },
  {
   "cell_type": "code",
   "execution_count": null,
   "id": "1f3ac1f0-a264-472c-8752-0bd32f4b8d92",
   "metadata": {},
   "outputs": [],
   "source": [
    "# Extract a row:\n",
    "m[1,:] # Or m[1]"
   ]
  },
  {
   "cell_type": "code",
   "execution_count": null,
   "id": "e2ce9ac7-2a7e-4438-a8e8-af32b8fcc02b",
   "metadata": {},
   "outputs": [],
   "source": [
    "# Extract a column:\n",
    "m[:,0]"
   ]
  },
  {
   "cell_type": "markdown",
   "id": "10c08ebe-d904-41d1-8739-272889c9701e",
   "metadata": {},
   "source": [
    "Sometimes we want to extract only the values that match a particular condition. For example, we might want to take the sum of all values greater than 0, or we might want to set all the values less than zero to be equal to 0. NumPy has an easy solution for this."
   ]
  },
  {
   "cell_type": "code",
   "execution_count": null,
   "id": "d2c0cf99-4635-4505-bee8-5850b0be11cd",
   "metadata": {},
   "outputs": [],
   "source": [
    "print('m:')\n",
    "print(m)\n",
    "print('')\n",
    "print('Sum of m:', np.sum(m))\n",
    "print('Sum of positive elements:', np.sum(m[m > 0]))"
   ]
  },
  {
   "cell_type": "markdown",
   "id": "00188523-3532-4679-b2ef-191b4735c20a",
   "metadata": {},
   "source": [
    "In the above example, we called `sum` on `m[m > 0]`. This works because of two things:\n",
    "1. `m > 0` results in a matrix the same size as `m` where each element is either `True` (that element is greater than 0) or `False` (that element is not greater than 0). In other words, the `>` operation, like the `+` operation, is broadcast over the array.\n",
    "2. `m[mask]`, where `mask` is a boolean array (a mask) whose shape matches that of `m`, results in an array of the elements of `m` for which `mask` is `True`."
   ]
  },
  {
   "cell_type": "code",
   "execution_count": null,
   "id": "975ef31e-1c10-469a-a2ab-493ffd74a59d",
   "metadata": {},
   "outputs": [],
   "source": [
    "print('m > 0:')\n",
    "print(m > 0)\n",
    "\n",
    "print('')\n",
    "print('m[m > 0]:')\n",
    "print(m[m > 0])"
   ]
  },
  {
   "cell_type": "markdown",
   "id": "d21e1351-95a2-456e-b404-8fca52f2126d",
   "metadata": {},
   "source": [
    "The function `numpy.where` can be used to extract the row and column indices of each `True` element in a boolean mask. These values are returned as a tuple of vectors (1D NumPy arrays) each of which is the same length (and equal to the number of `True` values in the mask) and which contain indices of the `True` cells."
   ]
  },
  {
   "cell_type": "code",
   "execution_count": null,
   "id": "da053b2f-0d68-4c11-98e6-bd24e35cbade",
   "metadata": {},
   "outputs": [],
   "source": [
    "mask = (m > 0)\n",
    "w = np.where(mask)\n",
    "print(w)"
   ]
  },
  {
   "cell_type": "code",
   "execution_count": null,
   "id": "4ed20b86-1bea-44b9-835f-cf1dcd210d8b",
   "metadata": {},
   "outputs": [],
   "source": [
    "(row_ii, col_ii) = w\n",
    "print([m[row_ii[k], col_ii[k]] for k in range(4)])\n",
    "print(m[mask])\n",
    "\n",
    "# One can also just pass a tuple of index vectors in square brackets; so\n",
    "# `m[mask]` is equivalent to `m[np.where(mask)]`.\n",
    "print(m[w])"
   ]
  },
  {
   "cell_type": "markdown",
   "id": "a22cb465-c112-44ff-bd26-20ec3df4bc36",
   "metadata": {},
   "source": [
    "**Vectorized programming** is a strategy that helps mitigate Python's inherent speed issues when it comes to loops with large numbers of iterations. Python's loops are slow because Python is a high-level language, and the amount of work it has to do for every iteration of a loop to keep track of changes in the runtime system is very high. Low-level languages like C, the language in which Python and modules like NumPy were written, can perform loops very efficiently. Accordingly, if you can write code that forces NumPy to perform your loop operations, your speed can be significantly improved.\n",
    "\n",
    "To demonstrate this, let's think about an example problem. Suppose we had a dataset consisting of a collection of temperature measurements at a set of points in 3D space and we need to calculate the average temperature of the measurements on each side of a screen at the plane `x = 0`. We'll simulate the problem for 1,000,000 points that we randomly draw from a normal distribution over each dimension, and we'll randomly draw temperatures from a normal distribution as well."
   ]
  },
  {
   "cell_type": "code",
   "execution_count": null,
   "id": "5868dd3b-1d17-47e0-8fc7-5aaaab1af6d6",
   "metadata": {},
   "outputs": [],
   "source": [
    "n = 1000000\n",
    "measurement_points = np.random.randn(n, 3)\n",
    "measurement_temps = np.random.randn(n) * 4 + 15"
   ]
  },
  {
   "cell_type": "markdown",
   "id": "f383742d-ce82-4b1f-bc88-31ff105ec771",
   "metadata": {},
   "source": [
    "A naive way to calculate each side's average temperature would be to loop over the rows of the two arrays and calculate the temperatures. Let's see how long that takes:"
   ]
  },
  {
   "cell_type": "code",
   "execution_count": null,
   "id": "734263f3-b83a-4ccf-b7f0-f8da672569d9",
   "metadata": {},
   "outputs": [],
   "source": [
    "import time\n",
    "\n",
    "t0 = time.time()\n",
    "\n",
    "left_temp_total = 0\n",
    "left_temp_n = 0\n",
    "right_temp_total = 0\n",
    "right_temp_n = 0\n",
    "for ((x,y,z), temp) in zip(measurement_points, measurement_temps):\n",
    "    if x < 0:\n",
    "        left_temp_total += temp\n",
    "        left_temp_n += 1\n",
    "    else:\n",
    "        right_temp_total += temp\n",
    "        right_temp_n += 1\n",
    "left_temp = left_temp_total / left_temp_n\n",
    "right_temp = right_temp_total / right_temp_n\n",
    "\n",
    "t1 = time.time()\n",
    "\n",
    "print('Left Mean Temp:', left_temp)\n",
    "print('Right Mean Temp:', right_temp)\n",
    "print(f'Compute Time: {t1 - t0:5.4f} seconds')"
   ]
  },
  {
   "cell_type": "markdown",
   "id": "95fc5e9f-ed5d-4f7d-9fd1-2c9e38ddf5f9",
   "metadata": {},
   "source": [
    "Now let's do the same calculation but let's have NumPy do all of the looping for us."
   ]
  },
  {
   "cell_type": "code",
   "execution_count": null,
   "id": "4bbea042-f3c1-4165-bda5-cd7a2ddb6b71",
   "metadata": {},
   "outputs": [],
   "source": [
    "t0 = time.time()\n",
    "\n",
    "ii = (measurement_points[:, 0] < 0)\n",
    "left_temp = np.mean(measurement_temps[ii])\n",
    "right_temp = np.mean(measurement_temps[~ii])\n",
    "\n",
    "t1 = time.time()\n",
    "\n",
    "print('Left Mean Temp:', left_temp)\n",
    "print('Right Mean Temp:', right_temp)\n",
    "print(f'Compute Time: {t1 - t0:5.4f} seconds')"
   ]
  }
 ],
 "metadata": {
  "kernelspec": {
   "display_name": "Python 3 (ipykernel)",
   "language": "python",
   "name": "python3"
  },
  "language_info": {
   "codemirror_mode": {
    "name": "ipython",
    "version": 3
   },
   "file_extension": ".py",
   "mimetype": "text/x-python",
   "name": "python",
   "nbconvert_exporter": "python",
   "pygments_lexer": "ipython3",
   "version": "3.11.11"
  }
 },
 "nbformat": 4,
 "nbformat_minor": 5
}
