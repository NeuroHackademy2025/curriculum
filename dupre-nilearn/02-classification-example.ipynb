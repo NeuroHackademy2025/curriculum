{
 "cells": [
  {
   "cell_type": "markdown",
   "id": "00487030",
   "metadata": {},
   "source": [
    "(class-example)=\n",
    "# An example classification problem"
   ]
  },
  {
   "cell_type": "code",
   "execution_count": null,
   "id": "fcdef8f7",
   "metadata": {
    "execution": {
     "iopub.execute_input": "2023-08-10T02:53:11.186841Z",
     "iopub.status.busy": "2023-08-10T02:53:11.186510Z",
     "iopub.status.idle": "2023-08-10T02:53:11.195540Z",
     "shell.execute_reply": "2023-08-10T02:53:11.195097Z"
    },
    "tags": [
     "hide-cell"
    ]
   },
   "outputs": [],
   "source": [
    "import warnings\n",
    "warnings.filterwarnings(\"ignore\")"
   ]
  },
  {
   "cell_type": "code",
   "execution_count": null,
   "id": "814cf82a",
   "metadata": {},
   "outputs": [],
   "source": [
    "import os\n",
    "from nilearn import datasets\n",
    "\n",
    "os.environ[\"NILEARN_SHARED_DATA\"] = \"~/shared/data/nilearn_data\"\n",
    "datasets.get_data_dirs()"
   ]
  },
  {
   "cell_type": "markdown",
   "id": "81dcc667",
   "metadata": {},
   "source": [
    "Now that we've seen how to create a connectome for an individual subject,\n",
    "we're ready to think about how we can use this connectome in a machine learning analysis.\n",
    "We'll keep working with the same `development_dataset`,\n",
    "but now we'd like to see if we can predict age group\n",
    "(i.e. whether a participant is a child or adult) based on their connectome,\n",
    "as defined by the functional connectivity matrix.\n",
    "\n",
    "We'll also explore whether we're more or less accurate in our predictions based on how we define functional connectivity.\n",
    "In this example, we'll consider three different different ways to define functional connectivity\n",
    "between our Multi-Subject Dictional Learning (MSDL) regions of interest (ROIs):\n",
    "correlation, partial correlation, and tangent space embedding.\n",
    "\n",
    "To learn more about tangent space embedding and how it compares to standard correlations,\n",
    "we recommend {cite}`Dadi_2019`.\n",
    "\n",
    "## Load brain development fMRI dataset and MSDL atlas\n",
    "\n",
    "First, we need to set up our minimal environment.\n",
    "This will include all the dependencies from the last notebook,\n",
    "loading the relevant data using our `nilearn` data set fetchers,\n",
    "and instantiated our `NiftiMapsMasker` and `ConnectivityMeasure` objects."
   ]
  },
  {
   "cell_type": "code",
   "execution_count": null,
   "id": "7abe2af2",
   "metadata": {
    "execution": {
     "iopub.execute_input": "2023-08-10T02:53:11.198145Z",
     "iopub.status.busy": "2023-08-10T02:53:11.197957Z",
     "iopub.status.idle": "2023-08-10T02:53:11.996669Z",
     "shell.execute_reply": "2023-08-10T02:53:11.996341Z"
    },
    "tags": [
     "hide-output"
    ]
   },
   "outputs": [],
   "source": [
    "import numpy as np\n",
    "import matplotlib.pyplot as plt\n",
    "from nilearn import (datasets, maskers, plotting)\n",
    "from nilearn.connectome import ConnectivityMeasure\n",
    "\n",
    "development_dataset = datasets.fetch_development_fmri(n_subjects=30)\n",
    "msdl_atlas = datasets.fetch_atlas_msdl()\n",
    "\n",
    "masker = maskers.NiftiMapsMasker(\n",
    "    msdl_atlas.maps, resampling_target=\"data\",\n",
    "    t_r=2, detrend=True,\n",
    "    low_pass=0.1, high_pass=0.01).fit()\n",
    "correlation_measure = ConnectivityMeasure(kind='correlation')"
   ]
  },
  {
   "cell_type": "markdown",
   "id": "3787cda2",
   "metadata": {},
   "source": [
    "Now we should have a much better idea what each line above is doing!\n",
    "Let's see how we can use these objects across many subjects,\n",
    "not just the first one.\n",
    "\n",
    "## Building our dataset\n",
    "\n",
    "First, we can loop through the 30 participants and extract a few relevant pieces of information,\n",
    "including their functional scan, their confounds file,\n",
    "and whether they were a child or adult at the time of their scan.\n",
    "\n",
    "Using this information, we can then transform their data using the `NiftiMapsMasker` we created above.\n",
    "As we learned last time, it's really important to correct for known sources of noise!\n",
    "So we'll also pass the relevant confounds file directly to the masker object to clean up each subject's data."
   ]
  },
  {
   "cell_type": "code",
   "execution_count": null,
   "id": "ade11509",
   "metadata": {
    "execution": {
     "iopub.execute_input": "2023-08-10T02:53:11.998481Z",
     "iopub.status.busy": "2023-08-10T02:53:11.998367Z",
     "iopub.status.idle": "2023-08-10T02:53:46.256567Z",
     "shell.execute_reply": "2023-08-10T02:53:46.255648Z"
    }
   },
   "outputs": [],
   "source": [
    "children = []\n",
    "pooled_subjects = []\n",
    "groups = []  # child or adult\n",
    "\n",
    "for func_file, confound_file, (_, phenotypic) in zip(\n",
    "        development_dataset.func,\n",
    "        development_dataset.confounds,\n",
    "        development_dataset.phenotypic.iterrows()\n",
    "    ):\n",
    "\n",
    "    time_series = masker.transform(func_file, confounds=confound_file)\n",
    "    pooled_subjects.append(time_series)\n",
    "\n",
    "    if phenotypic['Child_Adult'] == 'child':\n",
    "        children.append(time_series)\n",
    "\n",
    "    groups.append(phenotypic['Child_Adult'])\n",
    "\n",
    "print(f'Data has {len(children)} children.')"
   ]
  },
  {
   "cell_type": "markdown",
   "id": "7babe74f",
   "metadata": {},
   "source": [
    "We can see that this data set has 24 children.\n",
    "This is roughly proportional to the original participant pool,\n",
    "which had 122 children and 33 adults.\n",
    "\n",
    "We've also created a list in `pooled_subjects` containing all of the cleaned data.\n",
    "Remember that each entry of that list should have a shape of (168, 39).\n",
    "We can quickly confirm that this is true:"
   ]
  },
  {
   "cell_type": "code",
   "execution_count": null,
   "id": "d8675164",
   "metadata": {
    "execution": {
     "iopub.execute_input": "2023-08-10T02:53:46.260983Z",
     "iopub.status.busy": "2023-08-10T02:53:46.260369Z",
     "iopub.status.idle": "2023-08-10T02:53:46.268140Z",
     "shell.execute_reply": "2023-08-10T02:53:46.267307Z"
    }
   },
   "outputs": [],
   "source": [
    "print(pooled_subjects[0].shape)"
   ]
  },
  {
   "cell_type": "markdown",
   "id": "befb4061",
   "metadata": {},
   "source": [
    "## ROI-to-ROI correlations in children\n",
    "\n",
    "First, we'll use the most common kind of connectivity--and the one we used in the last section--correlation.\n",
    "It models the full (marginal) connectivity between pairwise ROIs.\n",
    "\n",
    "`correlation_measure` expects a list of time series,\n",
    "so we can directly supply the list of ROI time series we just created.\n",
    "It will then compute individual correlation matrices for each subject.\n",
    "First, let's just look at the correlation matrices for our 24 children,\n",
    "since we expect these matrices to be similar:"
   ]
  },
  {
   "cell_type": "code",
   "execution_count": null,
   "id": "743e528f",
   "metadata": {
    "execution": {
     "iopub.execute_input": "2023-08-10T02:53:46.271836Z",
     "iopub.status.busy": "2023-08-10T02:53:46.271265Z",
     "iopub.status.idle": "2023-08-10T02:53:46.294375Z",
     "shell.execute_reply": "2023-08-10T02:53:46.293742Z"
    }
   },
   "outputs": [],
   "source": [
    "correlation_matrices = correlation_measure.fit_transform(children)"
   ]
  },
  {
   "cell_type": "markdown",
   "id": "589971d9",
   "metadata": {},
   "source": [
    "Now, all individual coefficients are stacked in a unique 2D matrix."
   ]
  },
  {
   "cell_type": "code",
   "execution_count": null,
   "id": "b47ae257",
   "metadata": {
    "execution": {
     "iopub.execute_input": "2023-08-10T02:53:46.297945Z",
     "iopub.status.busy": "2023-08-10T02:53:46.297614Z",
     "iopub.status.idle": "2023-08-10T02:53:46.301628Z",
     "shell.execute_reply": "2023-08-10T02:53:46.300815Z"
    }
   },
   "outputs": [],
   "source": [
    "print('Correlations of children are stacked in an array of shape {0}'\n",
    "      .format(correlation_matrices.shape))"
   ]
  },
  {
   "cell_type": "markdown",
   "id": "0c33d9de",
   "metadata": {},
   "source": [
    "We can also directly access the average correlation across all fitted subjects using the `mean_` attribute."
   ]
  },
  {
   "cell_type": "code",
   "execution_count": null,
   "id": "d082d0c4",
   "metadata": {
    "execution": {
     "iopub.execute_input": "2023-08-10T02:53:46.305088Z",
     "iopub.status.busy": "2023-08-10T02:53:46.304734Z",
     "iopub.status.idle": "2023-08-10T02:53:46.309011Z",
     "shell.execute_reply": "2023-08-10T02:53:46.308102Z"
    }
   },
   "outputs": [],
   "source": [
    "mean_correlation_matrix = correlation_measure.mean_\n",
    "print('Mean correlation has shape {0}.'.format(mean_correlation_matrix.shape))"
   ]
  },
  {
   "cell_type": "markdown",
   "id": "eac7dbce",
   "metadata": {},
   "source": [
    "Let's display the functional connectivity matrices of the first 3 children:"
   ]
  },
  {
   "cell_type": "code",
   "execution_count": null,
   "id": "bf9c33a4",
   "metadata": {
    "execution": {
     "iopub.execute_input": "2023-08-10T02:53:46.312932Z",
     "iopub.status.busy": "2023-08-10T02:53:46.312313Z",
     "iopub.status.idle": "2023-08-10T02:53:46.538973Z",
     "shell.execute_reply": "2023-08-10T02:53:46.538616Z"
    }
   },
   "outputs": [],
   "source": [
    "_, axes = plt.subplots(1, 3, figsize=(15, 5))\n",
    "for i, (matrix, ax) in enumerate(zip(correlation_matrices, axes)):\n",
    "    plotting.plot_matrix(matrix, colorbar=False, axes=ax,\n",
    "                         vmin=-0.8, vmax=0.8,\n",
    "                         title='correlation, child {}'.format(i))"
   ]
  },
  {
   "cell_type": "markdown",
   "id": "800b945c",
   "metadata": {},
   "source": [
    "Just as before, we can also display connectome on the brain.\n",
    "Here, let's show the mean connectome over all 24 children."
   ]
  },
  {
   "cell_type": "code",
   "execution_count": null,
   "id": "c3ce2ca1",
   "metadata": {
    "execution": {
     "iopub.execute_input": "2023-08-10T02:53:46.540649Z",
     "iopub.status.busy": "2023-08-10T02:53:46.540528Z",
     "iopub.status.idle": "2023-08-10T02:53:46.581144Z",
     "shell.execute_reply": "2023-08-10T02:53:46.580766Z"
    }
   },
   "outputs": [],
   "source": [
    "plotting.view_connectome(mean_correlation_matrix, msdl_atlas.region_coords,\n",
    "                         edge_threshold=0.2,\n",
    "                         title='mean connectome over all children')"
   ]
  },
  {
   "cell_type": "markdown",
   "id": "3e33af2a",
   "metadata": {},
   "source": [
    "## Studying partial correlations\n",
    "\n",
    "Rather than looking at the correlation-defined functional connectivity matrix,\n",
    "we can also study **direct connections** as revealed by partial correlation coefficients.\n",
    "\n",
    "To do this, we can use exactly the same procedure as above, just changing the `ConnectivityMeasure` kind:"
   ]
  },
  {
   "cell_type": "code",
   "execution_count": null,
   "id": "3ade51ef",
   "metadata": {
    "execution": {
     "iopub.execute_input": "2023-08-10T02:53:46.598125Z",
     "iopub.status.busy": "2023-08-10T02:53:46.598001Z",
     "iopub.status.idle": "2023-08-10T02:53:46.606630Z",
     "shell.execute_reply": "2023-08-10T02:53:46.606384Z"
    }
   },
   "outputs": [],
   "source": [
    "partial_correlation_measure = ConnectivityMeasure(kind='partial correlation')\n",
    "partial_correlation_matrices = partial_correlation_measure.fit_transform(\n",
    "    children)"
   ]
  },
  {
   "cell_type": "markdown",
   "id": "2e0b8c99",
   "metadata": {},
   "source": [
    "Right away, we can see that most of direct connections are weaker than full connections for the first three children:"
   ]
  },
  {
   "cell_type": "code",
   "execution_count": null,
   "id": "e32c4d2c",
   "metadata": {
    "execution": {
     "iopub.execute_input": "2023-08-10T02:53:46.608153Z",
     "iopub.status.busy": "2023-08-10T02:53:46.608065Z",
     "iopub.status.idle": "2023-08-10T02:53:46.755531Z",
     "shell.execute_reply": "2023-08-10T02:53:46.755202Z"
    }
   },
   "outputs": [],
   "source": [
    "_, axes = plt.subplots(1, 3, figsize=(15, 5))\n",
    "for i, (matrix, ax) in enumerate(zip(partial_correlation_matrices, axes)):\n",
    "    plotting.plot_matrix(matrix, colorbar=False, axes=ax,\n",
    "                         vmin=-0.8, vmax=0.8,\n",
    "                         title='partial correlation, child {}'.format(i))"
   ]
  },
  {
   "cell_type": "markdown",
   "id": "e12459fe",
   "metadata": {},
   "source": [
    "This is also visible when we display the mean partial correlation connectome:"
   ]
  },
  {
   "cell_type": "code",
   "execution_count": null,
   "id": "e9253ca7",
   "metadata": {
    "execution": {
     "iopub.execute_input": "2023-08-10T02:53:46.757161Z",
     "iopub.status.busy": "2023-08-10T02:53:46.757059Z",
     "iopub.status.idle": "2023-08-10T02:53:46.795260Z",
     "shell.execute_reply": "2023-08-10T02:53:46.794941Z"
    }
   },
   "outputs": [],
   "source": [
    "plotting.view_connectome(\n",
    "    partial_correlation_measure.mean_, msdl_atlas.region_coords,\n",
    "    edge_threshold=0.2,\n",
    "    title='mean partial correlation over all children')"
   ]
  },
  {
   "cell_type": "markdown",
   "id": "9f9557a1",
   "metadata": {},
   "source": [
    "## Using tangent space embedding\n",
    "\n",
    "An alternative method to both correlations and partial correlation is tangent space embedding.\n",
    "Tangent space embedding uses **both** correlations and partial correlations to capture\n",
    "reproducible connectivity patterns at the group-level.\n",
    "\n",
    "Using this method is as easy as changing the kind of `ConnectivityMeasure`"
   ]
  },
  {
   "cell_type": "code",
   "execution_count": null,
   "id": "38a428c2",
   "metadata": {
    "execution": {
     "iopub.execute_input": "2023-08-10T02:53:46.812093Z",
     "iopub.status.busy": "2023-08-10T02:53:46.811952Z",
     "iopub.status.idle": "2023-08-10T02:53:46.813962Z",
     "shell.execute_reply": "2023-08-10T02:53:46.813713Z"
    }
   },
   "outputs": [],
   "source": [
    "tangent_measure = ConnectivityMeasure(kind='tangent')"
   ]
  },
  {
   "cell_type": "markdown",
   "id": "4fec26c5",
   "metadata": {},
   "source": [
    "We fit our children group and get the group connectivity matrix stored as\n",
    "in `tangent_measure.mean_`, and individual deviation matrices of each subject\n",
    "from it."
   ]
  },
  {
   "cell_type": "code",
   "execution_count": null,
   "id": "bfa94f6f",
   "metadata": {
    "execution": {
     "iopub.execute_input": "2023-08-10T02:53:46.815564Z",
     "iopub.status.busy": "2023-08-10T02:53:46.815451Z",
     "iopub.status.idle": "2023-08-10T02:53:46.936346Z",
     "shell.execute_reply": "2023-08-10T02:53:46.935949Z"
    }
   },
   "outputs": [],
   "source": [
    "tangent_matrices = tangent_measure.fit_transform(children)"
   ]
  },
  {
   "cell_type": "markdown",
   "id": "d803f7c4",
   "metadata": {},
   "source": [
    "`tangent_matrices` model individual connectivities as\n",
    "**perturbations** of the group connectivity matrix `tangent_measure.mean_`.\n",
    "Keep in mind that these subjects-to-group variability matrices do not\n",
    "directly reflect individual brain connections. For instance negative\n",
    "coefficients can not be interpreted as anticorrelated regions."
   ]
  },
  {
   "cell_type": "code",
   "execution_count": null,
   "id": "8d9da8f8",
   "metadata": {
    "execution": {
     "iopub.execute_input": "2023-08-10T02:53:46.938536Z",
     "iopub.status.busy": "2023-08-10T02:53:46.938400Z",
     "iopub.status.idle": "2023-08-10T02:53:47.130811Z",
     "shell.execute_reply": "2023-08-10T02:53:47.129977Z"
    }
   },
   "outputs": [],
   "source": [
    "_, axes = plt.subplots(1, 3, figsize=(15, 5))\n",
    "for i, (matrix, ax) in enumerate(zip(tangent_matrices, axes)):\n",
    "    plotting.plot_matrix(matrix, colorbar=False, axes=ax,\n",
    "                         vmin=-0.8, vmax=0.8,\n",
    "                         title='tangent offset, child {}'.format(i))"
   ]
  },
  {
   "cell_type": "markdown",
   "id": "204f0e98",
   "metadata": {},
   "source": [
    "We don't show the mean connectome here as average tangent matrix cannot be interpreted,\n",
    "since individual matrices represent deviations from the mean, which is set to 0.\n",
    "\n",
    "## Using connectivity in a classification analysis\n",
    "\n",
    "We can use these connectivity matrices as features in a classification analysis to distinguish children from adults.\n",
    "This classification analysis can be implmented directly in scikit-learn,\n",
    "including all of the important considerations like cross-validation and measuring classification accuracy.\n",
    "\n",
    "First, we'll randomly split participants into training and testing sets 15 times.\n",
    "`StratifiedShuffleSplit` allows us to preserve the proportion of children-to-adults in the test set.\n",
    "We'll also compute classification accuracies for each of the kinds of functional connectivity we've identified:\n",
    "correlation, partial correlation, and tangent space embedding."
   ]
  },
  {
   "cell_type": "code",
   "execution_count": null,
   "id": "89ec35dd",
   "metadata": {
    "execution": {
     "iopub.execute_input": "2023-08-10T02:53:47.135108Z",
     "iopub.status.busy": "2023-08-10T02:53:47.134721Z",
     "iopub.status.idle": "2023-08-10T02:53:47.140596Z",
     "shell.execute_reply": "2023-08-10T02:53:47.139892Z"
    }
   },
   "outputs": [],
   "source": [
    "from sklearn.metrics import accuracy_score\n",
    "from sklearn.model_selection import StratifiedShuffleSplit\n",
    "from sklearn.svm import LinearSVC\n",
    "\n",
    "kinds = ['correlation', 'partial correlation', 'tangent']\n",
    "_, classes = np.unique(groups, return_inverse=True)\n",
    "cv = StratifiedShuffleSplit(n_splits=15, random_state=0, test_size=5)\n",
    "pooled_subjects = np.asarray(pooled_subjects)"
   ]
  },
  {
   "cell_type": "markdown",
   "id": "ed59c685",
   "metadata": {},
   "source": [
    "Now, we can train the scikit-learn `LinearSVC` estimator to on our training set of participants\n",
    "and apply the trained classifier on our testing set,\n",
    "storing accuracy scores after each cross-validation fold:"
   ]
  },
  {
   "cell_type": "code",
   "execution_count": null,
   "id": "43d430e9",
   "metadata": {
    "execution": {
     "iopub.execute_input": "2023-08-10T02:53:47.143876Z",
     "iopub.status.busy": "2023-08-10T02:53:47.143578Z",
     "iopub.status.idle": "2023-08-10T02:53:48.382686Z",
     "shell.execute_reply": "2023-08-10T02:53:48.382229Z"
    }
   },
   "outputs": [],
   "source": [
    "scores = {}\n",
    "for kind in kinds:\n",
    "    scores[kind] = []\n",
    "    for train, test in cv.split(pooled_subjects, classes):\n",
    "        # *ConnectivityMeasure* can output the estimated subjects coefficients\n",
    "        # as a 1D arrays through the parameter *vectorize*.\n",
    "        connectivity = ConnectivityMeasure(kind=kind, vectorize=True)\n",
    "        # build vectorized connectomes for subjects in the train set\n",
    "        connectomes = connectivity.fit_transform(pooled_subjects[train])\n",
    "        # fit the classifier\n",
    "        classifier = LinearSVC().fit(connectomes, classes[train])\n",
    "        # make predictions for the left-out test subjects\n",
    "        predictions = classifier.predict(\n",
    "            connectivity.transform(pooled_subjects[test]))\n",
    "        # store the accuracy for this cross-validation fold\n",
    "        scores[kind].append(accuracy_score(classes[test], predictions))"
   ]
  },
  {
   "cell_type": "markdown",
   "id": "18437672",
   "metadata": {},
   "source": [
    "After we've done this for all of the folds, we can display the results!"
   ]
  },
  {
   "cell_type": "code",
   "execution_count": null,
   "id": "22132be7",
   "metadata": {
    "execution": {
     "iopub.execute_input": "2023-08-10T02:53:48.385487Z",
     "iopub.status.busy": "2023-08-10T02:53:48.384977Z",
     "iopub.status.idle": "2023-08-10T02:53:48.474734Z",
     "shell.execute_reply": "2023-08-10T02:53:48.473955Z"
    }
   },
   "outputs": [],
   "source": [
    "mean_scores = [np.mean(scores[kind]) for kind in kinds]\n",
    "scores_std = [np.std(scores[kind]) for kind in kinds]\n",
    "\n",
    "plt.figure(figsize=(6, 4))\n",
    "positions = np.arange(len(kinds)) * .1 + .1\n",
    "plt.barh(positions, mean_scores, align='center', height=.05, xerr=scores_std)\n",
    "yticks = [k.replace(' ', '\\n') for k in kinds]\n",
    "plt.yticks(positions, yticks)\n",
    "plt.gca().grid(True)\n",
    "plt.gca().set_axisbelow(True)\n",
    "plt.gca().axvline(.8, color='red', linestyle='--')\n",
    "plt.xlabel('Classification accuracy\\n(red line = chance level)')\n",
    "plt.tight_layout()"
   ]
  },
  {
   "cell_type": "markdown",
   "id": "2ab1a245",
   "metadata": {},
   "source": [
    "This is a small example to showcase nilearn features. In practice such\n",
    "comparisons need to be performed on much larger cohorts and several\n",
    "datasets.\n",
    "{cite}`Dadi_2019` showed that across many cohorts and clinical questions,\n",
    "the tangent kind should be preferred.\n",
    "\n",
    "Combining nilearn and scikit-learn can allow us to perform many (many) kinds of machine learning analyses,\n",
    "not just classification!\n",
    "We encourage you to explore the [Examples](https://nilearn.github.io/stable/auto_examples/index.html) and\n",
    "[User Guides](https://nilearn.github.io/stable/user_guide.html) on [the Nilearn website](http://nilearn.github.io) to learn more.\n",
    "\n",
    "```{bibliography} references.bib\n",
    ":style: unsrt\n",
    ":filter: docname in docnames\n",
    "```"
   ]
  }
 ],
 "metadata": {
  "kernelspec": {
   "display_name": "Python 3 (ipykernel)",
   "language": "python",
   "name": "python3"
  },
  "language_info": {
   "codemirror_mode": {
    "name": "ipython",
    "version": 3
   },
   "file_extension": ".py",
   "mimetype": "text/x-python",
   "name": "python",
   "nbconvert_exporter": "python",
   "pygments_lexer": "ipython3",
   "version": "3.9.21"
  },
  "repository": {
   "url": "https://github.com/emdupre/nha-ml-nimg"
  }
 },
 "nbformat": 4,
 "nbformat_minor": 5
}
