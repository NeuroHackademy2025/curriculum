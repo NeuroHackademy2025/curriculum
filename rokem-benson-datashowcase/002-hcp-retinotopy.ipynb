{
 "cells": [
  {
   "cell_type": "markdown",
   "id": "cb69b5c4-f390-4992-88b5-d6818aed8918",
   "metadata": {},
   "source": [
    "# The Human Connectome Project 7 Tesla Retinotopy Dataset"
   ]
  },
  {
   "cell_type": "markdown",
   "id": "3a0431b4-53f5-494d-ae54-82f7ef612a77",
   "metadata": {},
   "source": [
    "The HCP collected retinotopic mapping data for 181 subjects. This is a huge dataset of visual function by contemporary standards. The population receptive field (PRF) maps for these mapping experiments were solved and posted on the Open Science Framework (OSF): https://osf.io/bw9ec/ (publication here: https://doi.org/10.1167/18.13.23).\n",
    "\n",
    "The library `neuropythy` is a utility for surface-based analysis of MRI data, and it includes a number of utilities for interacting both with the HCP generally as well as with the retinotopy data specifically. We will walk through these in this notebook."
   ]
  },
  {
   "cell_type": "code",
   "execution_count": 1,
   "id": "4fcd7063-d42b-4993-bd5a-2d1602a45ded",
   "metadata": {
    "tags": []
   },
   "outputs": [],
   "source": [
    "# Import neuropythy:\n",
    "import neuropythy as ny\n",
    "# We will also want a utility function to load HCP credentials.\n",
    "from utilities import load_aws_credentials\n",
    "\n",
    "# Tell neuropythy about our HCP credentials and where we are saving cache files.\n",
    "ny.config['hcp_credentials'] = load_aws_credentials('hcp')\n",
    "ny.config['data_cache_root'] = '/tmp/cache'"
   ]
  },
  {
   "cell_type": "markdown",
   "id": "8e414b76-24b5-427d-92b4-8e89a547be19",
   "metadata": {},
   "source": [
    "Now that we have configured neuropythy, let's load a subject and look at their cortical surfaces."
   ]
  },
  {
   "cell_type": "code",
   "execution_count": 2,
   "id": "3af9aed9-b601-481f-a257-3e6780ee6461",
   "metadata": {
    "tags": []
   },
   "outputs": [
    {
     "ename": "RuntimeError",
     "evalue": "load failure: the requested object could not be loaded, probably because you do not have ipyvolume installed correctly",
     "output_type": "error",
     "traceback": [
      "\u001b[0;31m---------------------------------------------------------------------------\u001b[0m",
      "\u001b[0;31mRuntimeError\u001b[0m                              Traceback (most recent call last)",
      "Cell \u001b[0;32mIn[2], line 7\u001b[0m\n\u001b[1;32m      2\u001b[0m sub \u001b[38;5;241m=\u001b[39m ny\u001b[38;5;241m.\u001b[39mhcp_subject(\u001b[38;5;241m111312\u001b[39m)\n\u001b[1;32m      4\u001b[0m \u001b[38;5;66;03m# Plot both their right and left hemispheres together; this will download all\u001b[39;00m\n\u001b[1;32m      5\u001b[0m \u001b[38;5;66;03m# the files required for this plot (but not all of the files in the subject's\u001b[39;00m\n\u001b[1;32m      6\u001b[0m \u001b[38;5;66;03m# that aren't used for this plot).\u001b[39;00m\n\u001b[0;32m----> 7\u001b[0m \u001b[43mny\u001b[49m\u001b[38;5;241;43m.\u001b[39;49m\u001b[43mcortex_plot\u001b[49m\u001b[43m(\u001b[49m\u001b[43m(\u001b[49m\u001b[43msub\u001b[49m\u001b[38;5;241;43m.\u001b[39;49m\u001b[43mlh\u001b[49m\u001b[43m,\u001b[49m\u001b[43m \u001b[49m\u001b[43msub\u001b[49m\u001b[38;5;241;43m.\u001b[39;49m\u001b[43mrh\u001b[49m\u001b[43m)\u001b[49m\u001b[43m,\u001b[49m\u001b[43m \u001b[49m\u001b[43msurface\u001b[49m\u001b[38;5;241;43m=\u001b[39;49m\u001b[38;5;124;43m'\u001b[39;49m\u001b[38;5;124;43mwhite\u001b[39;49m\u001b[38;5;124;43m'\u001b[39;49m\u001b[43m)\u001b[49m\n",
      "File \u001b[0;32m/srv/conda/envs/notebook/lib/python3.11/site-packages/neuropythy/graphics/core.py:1390\u001b[0m, in \u001b[0;36mcortex_plot\u001b[0;34m(mesh, *args, **opts)\u001b[0m\n\u001b[1;32m   1339\u001b[0m \u001b[38;5;250m\u001b[39m\u001b[38;5;124;03m'''\u001b[39;00m\n\u001b[1;32m   1340\u001b[0m \u001b[38;5;124;03mcortex_plot(mesh) calls either cortex_plot_2D or cortex_plot_3D depending on the dimensionality\u001b[39;00m\n\u001b[1;32m   1341\u001b[0m \u001b[38;5;124;03m  of the given mesh, and yields the resulting graphics object. All optional arguments supported\u001b[39;00m\n\u001b[0;32m   (...)\u001b[0m\n\u001b[1;32m   1386\u001b[0m \u001b[38;5;124;03m    already exists; otherwise a new one is made.\u001b[39;00m\n\u001b[1;32m   1387\u001b[0m \u001b[38;5;124;03m'''\u001b[39;00m\n\u001b[1;32m   1388\u001b[0m \u001b[38;5;28;01mif\u001b[39;00m \u001b[38;5;129;01mnot\u001b[39;00m \u001b[38;5;28misinstance\u001b[39m(mesh, geo\u001b[38;5;241m.\u001b[39mMesh) \u001b[38;5;129;01mor\u001b[39;00m mesh\u001b[38;5;241m.\u001b[39mcoordinates\u001b[38;5;241m.\u001b[39mshape[\u001b[38;5;241m0\u001b[39m] \u001b[38;5;241m>\u001b[39m \u001b[38;5;241m2\u001b[39m:\n\u001b[1;32m   1389\u001b[0m     \u001b[38;5;66;03m# must be a 3D call\u001b[39;00m\n\u001b[0;32m-> 1390\u001b[0m     \u001b[38;5;28;01mreturn\u001b[39;00m \u001b[43mcortex_plot_3D\u001b[49m\u001b[43m(\u001b[49m\u001b[43mmesh\u001b[49m\u001b[43m,\u001b[49m\u001b[43m \u001b[49m\u001b[38;5;241;43m*\u001b[39;49m\u001b[43margs\u001b[49m\u001b[43m,\u001b[49m\u001b[43m \u001b[49m\u001b[38;5;241;43m*\u001b[39;49m\u001b[38;5;241;43m*\u001b[39;49m\u001b[43mopts\u001b[49m\u001b[43m)\u001b[49m\n\u001b[1;32m   1391\u001b[0m \u001b[38;5;28;01melse\u001b[39;00m:\n\u001b[1;32m   1392\u001b[0m     \u001b[38;5;28;01mreturn\u001b[39;00m cortex_plot_2D(mesh, \u001b[38;5;241m*\u001b[39margs, \u001b[38;5;241m*\u001b[39m\u001b[38;5;241m*\u001b[39mopts)\n",
      "File \u001b[0;32m/srv/conda/envs/notebook/lib/python3.11/site-packages/neuropythy/graphics/core.py:1168\u001b[0m, in \u001b[0;36m_ipyvolume_load_error\u001b[0;34m(*args, **kwargs)\u001b[0m\n\u001b[1;32m   1167\u001b[0m \u001b[38;5;28;01mdef\u001b[39;00m\u001b[38;5;250m \u001b[39m\u001b[38;5;21m_ipyvolume_load_error\u001b[39m(\u001b[38;5;241m*\u001b[39margs, \u001b[38;5;241m*\u001b[39m\u001b[38;5;241m*\u001b[39mkwargs):\n\u001b[0;32m-> 1168\u001b[0m     \u001b[38;5;28;01mraise\u001b[39;00m \u001b[38;5;167;01mRuntimeError\u001b[39;00m(\u001b[38;5;124m'\u001b[39m\u001b[38;5;124mload failure: the requested object could not be loaded, probably \u001b[39m\u001b[38;5;124m'\u001b[39m \u001b[38;5;241m+\u001b[39m\n\u001b[1;32m   1169\u001b[0m                        \u001b[38;5;124m'\u001b[39m\u001b[38;5;124mbecause you do not have ipyvolume installed correctly\u001b[39m\u001b[38;5;124m'\u001b[39m)\n",
      "\u001b[0;31mRuntimeError\u001b[0m: load failure: the requested object could not be loaded, probably because you do not have ipyvolume installed correctly"
     ]
    }
   ],
   "source": [
    "# Load a subject:\n",
    "sub = ny.hcp_subject(111312)\n",
    "\n",
    "# Plot both their right and left hemispheres together; this will download all\n",
    "# the files required for this plot (but not all of the files in the subject's\n",
    "# that aren't used for this plot).\n",
    "ny.cortex_plot((sub.lh, sub.rh), surface='white')"
   ]
  },
  {
   "cell_type": "markdown",
   "id": "2c2e986d-e736-4803-a1be-6d2be4036ecc",
   "metadata": {},
   "source": [
    "Neuropythy knows about most of the properties and data files included in the HCPpipelines as well as FreeSurfer. For example, if we want to color the label of V1 that is included in FreeSurfer red on the cortical surface we can do that with a simple mask:"
   ]
  },
  {
   "cell_type": "code",
   "execution_count": null,
   "id": "cf059db0-3117-4bdd-ac2f-bccef16476e6",
   "metadata": {
    "tags": []
   },
   "outputs": [],
   "source": [
    "ny.cortex_plot((sub.lh, sub.rh), surface='inflated', color='r', mask='V1_label')"
   ]
  },
  {
   "cell_type": "markdown",
   "id": "e7e5982a-5ae8-41af-9893-c287bf99ebda",
   "metadata": {},
   "source": [
    "## The Retinotopy Data\n",
    "\n",
    "The retinotopy data provided on the OSF can be downloaded manually, but it is generally easier for neuropythy to manage it for you. The first time you access any retinotopy data, it will be downloaded, and this can take a bit of time, but generally, this command should run in a couple of minutes or less.\n",
    "\n",
    "We will start by plotting the polar angle for each point on the cortical surface for which the variance of the BOLD signal explained by the PRF model is at least 10%."
   ]
  },
  {
   "cell_type": "code",
   "execution_count": null,
   "id": "6aaa8024-ae90-4682-996c-ede9e44b49bc",
   "metadata": {
    "tags": []
   },
   "outputs": [],
   "source": [
    "# The mask we use is anywhere on cortex where the variance explained of\n",
    "# the PRF model is between 10% and 100% (this tuple format is shorthand\n",
    "# for neuropythy); 'prf_variance_explained' is a property of the cortical\n",
    "# surface that neuropythy obtains from the retinotopy dataset.\n",
    "mask = ('prf_variance_explained', 0.1, 1)\n",
    "\n",
    "# We want to plot the polar angle; neuropythy knows about polar angle and\n",
    "# has a colormap already prepared for it.\n",
    "color = 'prf_polar_angle'\n",
    "\n",
    "# We want to plot the inflated surfaces.\n",
    "surf = 'inflated'\n",
    "\n",
    "# Make the plot:\n",
    "ny.cortex_plot((sub.lh, sub.rh), color=color, mask=mask, surface=surf)"
   ]
  },
  {
   "cell_type": "markdown",
   "id": "962878e2-7003-4402-a20d-84fe77b96fa6",
   "metadata": {},
   "source": [
    "The polar angle tells us the rotation around the visual field to which each point on cortex responds most strongly. The cell below creates a 2D legend of the polar angle. The circle plotted represents the visual field, so, for example, if a point on cortex is colored red, that means that that point responds most strongly to the lower visual field."
   ]
  },
  {
   "cell_type": "code",
   "execution_count": null,
   "id": "b4492b3c-9a05-4da3-a2f0-ea2e86cac6ce",
   "metadata": {},
   "outputs": [],
   "source": [
    "import numpy as np\n",
    "import matplotlib.pyplot as plt\n",
    "\n",
    "# We can plot a legend for the polar angle or eccentricity:\n",
    "\n",
    "# Make a 2D image of the visual field:\n",
    "vfield = ny.vision.visual_field_mesh()\n",
    "(vfield_x, vfield_y) = vfield.coordinates\n",
    "vfield_angle = np.arctan2(vfield_y, vfield_x)\n",
    "# neuropythy wants 0 to be the upper vertical meridian:\n",
    "vfield_angle = np.mod(90 - 180/np.pi*vfield_angle + 180, 360) - 180\n",
    "ax = ny.cortex_plot(vfield, color={'polar_angle': vfield_angle}, underlay=None)\n",
    "plt.gca().axis('equal')\n",
    "\n",
    "pass"
   ]
  },
  {
   "cell_type": "code",
   "execution_count": null,
   "id": "bc5c2e00-c446-431e-b796-94aba8db6fd2",
   "metadata": {},
   "outputs": [],
   "source": []
  },
  {
   "cell_type": "code",
   "execution_count": null,
   "id": "58559ecd-6fe9-49f5-9889-abbd753d6a9a",
   "metadata": {},
   "outputs": [],
   "source": []
  }
 ],
 "metadata": {
  "kernelspec": {
   "display_name": "Python 3 (ipykernel)",
   "language": "python",
   "name": "python3"
  },
  "language_info": {
   "codemirror_mode": {
    "name": "ipython",
    "version": 3
   },
   "file_extension": ".py",
   "mimetype": "text/x-python",
   "name": "python",
   "nbconvert_exporter": "python",
   "pygments_lexer": "ipython3",
   "version": "3.11.11"
  }
 },
 "nbformat": 4,
 "nbformat_minor": 5
}
